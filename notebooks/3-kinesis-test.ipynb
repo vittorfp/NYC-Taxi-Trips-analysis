{
 "cells": [
  {
   "cell_type": "code",
   "execution_count": 1,
   "metadata": {},
   "outputs": [],
   "source": [
    "import boto3\n",
    "from IPython.display import clear_output\n",
    "\n",
    "\n",
    "AWS_REGION = \"sa-east-1\"\n",
    "STREAM_NAME = \"taxi-trips-stream\""
   ]
  },
  {
   "cell_type": "code",
   "execution_count": 2,
   "metadata": {},
   "outputs": [],
   "source": [
    "client = boto3.client(\n",
    "    'kinesis',\n",
    "    region_name=AWS_REGION\n",
    ")"
   ]
  },
  {
   "cell_type": "code",
   "execution_count": 3,
   "metadata": {},
   "outputs": [
    {
     "data": {
      "text/plain": [
       "{'StreamNames': ['taxi-trips-stream'],\n",
       " 'HasMoreStreams': False,\n",
       " 'ResponseMetadata': {'RequestId': 'd80098f8-6860-bf16-8f44-36c10e242c66',\n",
       "  'HTTPStatusCode': 200,\n",
       "  'HTTPHeaders': {'x-amzn-requestid': 'd80098f8-6860-bf16-8f44-36c10e242c66',\n",
       "   'x-amz-id-2': 'WalTFK4fcRoIrJRzIg6C9VF+mTcpctanQkLlxhdd/bKnZvA/I1yrIbyGFzXyeos2MmWS7Ng1BXgdrcud0y4sSvWsX3JMSt94',\n",
       "   'date': 'Sun, 24 May 2020 17:16:41 GMT',\n",
       "   'content-type': 'application/x-amz-json-1.1',\n",
       "   'content-length': '60'},\n",
       "  'RetryAttempts': 0}}"
      ]
     },
     "execution_count": 3,
     "metadata": {},
     "output_type": "execute_result"
    }
   ],
   "source": [
    "client.list_streams()"
   ]
  },
  {
   "cell_type": "code",
   "execution_count": null,
   "metadata": {},
   "outputs": [],
   "source": [
    "from multiprocess.pool import ThreadPool\n",
    "import time\n",
    "\n",
    "files = [\n",
    "    '../data/raw/data-sample_data-nyctaxi-trips-2009-json_corrigido.json',\n",
    "    '../data/raw/data-sample_data-nyctaxi-trips-2010-json_corrigido.json',\n",
    "    '../data/raw/data-sample_data-nyctaxi-trips-2011-json_corrigido.json',\n",
    "    '../data/raw/data-sample_data-nyctaxi-trips-2012-json_corrigido.json'\n",
    "]\n",
    "\n",
    "max_bytes = 215000 # 215 kb \n",
    "total_sent = 0\n",
    "\n",
    "def send_register(registers):\n",
    "    global total_sent\n",
    "    clear_output(wait=True)\n",
    "    \n",
    "    length = len(registers)\n",
    "    total_sent += length\n",
    "    \n",
    "    print(f\"Sending {length} registers to Kinesis.\")\n",
    "    records = [\n",
    "        {\n",
    "            'Data': data.encode(),\n",
    "            'PartitionKey': '1'\n",
    "        }\n",
    "        for data in registers\n",
    "    ]\n",
    "    print(f\"Total: {total_sent}\")\n",
    "    client.put_records(\n",
    "        Records=records,\n",
    "        StreamName=STREAM_NAME,\n",
    "    )\n",
    "\n",
    "def process_file(file):\n",
    "    with open(file, 'r') as buffer:\n",
    "        registers = buffer.readlines(max_bytes)\n",
    "        while len(registers):\n",
    "            send_register(registers)\n",
    "            registers = buffer.readlines(max_bytes)\n",
    "\n",
    "pool = ThreadPool(4)\n",
    "pool.map(process_file, files)"
   ]
  }
 ],
 "metadata": {
  "kernelspec": {
   "display_name": "Python 3",
   "language": "python",
   "name": "python3"
  },
  "language_info": {
   "codemirror_mode": {
    "name": "ipython",
    "version": 3
   },
   "file_extension": ".py",
   "mimetype": "text/x-python",
   "name": "python",
   "nbconvert_exporter": "python",
   "pygments_lexer": "ipython3",
   "version": "3.6.9"
  }
 },
 "nbformat": 4,
 "nbformat_minor": 2
}
